{
 "cells": [
  {
   "cell_type": "code",
   "execution_count": 1,
   "metadata": {},
   "outputs": [],
   "source": [
    "import warnings\n",
    "warnings.filterwarnings(\"ignore\")"
   ]
  },
  {
   "cell_type": "code",
   "execution_count": 2,
   "metadata": {},
   "outputs": [],
   "source": [
    "from datetime import datetime\n",
    "import matplotlib.pyplot as plt\n",
    "import pandas as pd"
   ]
  },
  {
   "cell_type": "code",
   "execution_count": 3,
   "metadata": {},
   "outputs": [
    {
     "data": {
      "text/html": [
       "<div>\n",
       "<style scoped>\n",
       "    .dataframe tbody tr th:only-of-type {\n",
       "        vertical-align: middle;\n",
       "    }\n",
       "\n",
       "    .dataframe tbody tr th {\n",
       "        vertical-align: top;\n",
       "    }\n",
       "\n",
       "    .dataframe thead th {\n",
       "        text-align: right;\n",
       "    }\n",
       "</style>\n",
       "<table border=\"1\" class=\"dataframe\">\n",
       "  <thead>\n",
       "    <tr style=\"text-align: right;\">\n",
       "      <th></th>\n",
       "      <th>datetime</th>\n",
       "      <th>home_team</th>\n",
       "      <th>home_team_state</th>\n",
       "      <th>away_team</th>\n",
       "      <th>away_team_state</th>\n",
       "      <th>home_goal</th>\n",
       "      <th>away_goal</th>\n",
       "      <th>season</th>\n",
       "      <th>round</th>\n",
       "    </tr>\n",
       "  </thead>\n",
       "  <tbody>\n",
       "    <tr>\n",
       "      <th>0</th>\n",
       "      <td>2012-05-19 18:30:00</td>\n",
       "      <td>Palmeiras-SP</td>\n",
       "      <td>SP</td>\n",
       "      <td>Portuguesa-SP</td>\n",
       "      <td>SP</td>\n",
       "      <td>1.0</td>\n",
       "      <td>1.0</td>\n",
       "      <td>2012</td>\n",
       "      <td>1</td>\n",
       "    </tr>\n",
       "    <tr>\n",
       "      <th>1</th>\n",
       "      <td>2012-05-19 18:30:00</td>\n",
       "      <td>Sport-PE</td>\n",
       "      <td>PE</td>\n",
       "      <td>Flamengo-RJ</td>\n",
       "      <td>RJ</td>\n",
       "      <td>1.0</td>\n",
       "      <td>1.0</td>\n",
       "      <td>2012</td>\n",
       "      <td>1</td>\n",
       "    </tr>\n",
       "    <tr>\n",
       "      <th>2</th>\n",
       "      <td>2012-05-19 21:00:00</td>\n",
       "      <td>Figueirense-SC</td>\n",
       "      <td>SC</td>\n",
       "      <td>Nautico-PE</td>\n",
       "      <td>PE</td>\n",
       "      <td>2.0</td>\n",
       "      <td>1.0</td>\n",
       "      <td>2012</td>\n",
       "      <td>1</td>\n",
       "    </tr>\n",
       "    <tr>\n",
       "      <th>3</th>\n",
       "      <td>2012-05-20 16:00:00</td>\n",
       "      <td>Ponte Preta-SP</td>\n",
       "      <td>SP</td>\n",
       "      <td>Atletico-MG</td>\n",
       "      <td>MG</td>\n",
       "      <td>0.0</td>\n",
       "      <td>1.0</td>\n",
       "      <td>2012</td>\n",
       "      <td>1</td>\n",
       "    </tr>\n",
       "    <tr>\n",
       "      <th>4</th>\n",
       "      <td>2012-05-20 16:00:00</td>\n",
       "      <td>Corinthians-SP</td>\n",
       "      <td>SP</td>\n",
       "      <td>Fluminense-RJ</td>\n",
       "      <td>RJ</td>\n",
       "      <td>0.0</td>\n",
       "      <td>1.0</td>\n",
       "      <td>2012</td>\n",
       "      <td>1</td>\n",
       "    </tr>\n",
       "    <tr>\n",
       "      <th>...</th>\n",
       "      <td>...</td>\n",
       "      <td>...</td>\n",
       "      <td>...</td>\n",
       "      <td>...</td>\n",
       "      <td>...</td>\n",
       "      <td>...</td>\n",
       "      <td>...</td>\n",
       "      <td>...</td>\n",
       "      <td>...</td>\n",
       "    </tr>\n",
       "    <tr>\n",
       "      <th>4165</th>\n",
       "      <td>NaT</td>\n",
       "      <td>Botafogo-RJ</td>\n",
       "      <td>RJ</td>\n",
       "      <td>Santos-SP</td>\n",
       "      <td>SP</td>\n",
       "      <td>NaN</td>\n",
       "      <td>NaN</td>\n",
       "      <td>2022</td>\n",
       "      <td>37</td>\n",
       "    </tr>\n",
       "    <tr>\n",
       "      <th>4166</th>\n",
       "      <td>NaT</td>\n",
       "      <td>Palmeiras-SP</td>\n",
       "      <td>SP</td>\n",
       "      <td>America-MG</td>\n",
       "      <td>MG</td>\n",
       "      <td>NaN</td>\n",
       "      <td>NaN</td>\n",
       "      <td>2022</td>\n",
       "      <td>37</td>\n",
       "    </tr>\n",
       "    <tr>\n",
       "      <th>4167</th>\n",
       "      <td>NaT</td>\n",
       "      <td>Sao Paulo-SP</td>\n",
       "      <td>SP</td>\n",
       "      <td>Internacional-RS</td>\n",
       "      <td>RS</td>\n",
       "      <td>NaN</td>\n",
       "      <td>NaN</td>\n",
       "      <td>2022</td>\n",
       "      <td>37</td>\n",
       "    </tr>\n",
       "    <tr>\n",
       "      <th>4168</th>\n",
       "      <td>NaT</td>\n",
       "      <td>Fluminense-RJ</td>\n",
       "      <td>RJ</td>\n",
       "      <td>Goias-GO</td>\n",
       "      <td>GO</td>\n",
       "      <td>NaN</td>\n",
       "      <td>NaN</td>\n",
       "      <td>2022</td>\n",
       "      <td>37</td>\n",
       "    </tr>\n",
       "    <tr>\n",
       "      <th>4169</th>\n",
       "      <td>NaT</td>\n",
       "      <td>Atletico-MG</td>\n",
       "      <td>MG</td>\n",
       "      <td>Cuiaba-MT</td>\n",
       "      <td>MT</td>\n",
       "      <td>NaN</td>\n",
       "      <td>NaN</td>\n",
       "      <td>2022</td>\n",
       "      <td>37</td>\n",
       "    </tr>\n",
       "  </tbody>\n",
       "</table>\n",
       "<p>4170 rows × 9 columns</p>\n",
       "</div>"
      ],
      "text/plain": [
       "                datetime       home_team home_team_state         away_team  \\\n",
       "0    2012-05-19 18:30:00    Palmeiras-SP              SP     Portuguesa-SP   \n",
       "1    2012-05-19 18:30:00        Sport-PE              PE       Flamengo-RJ   \n",
       "2    2012-05-19 21:00:00  Figueirense-SC              SC        Nautico-PE   \n",
       "3    2012-05-20 16:00:00  Ponte Preta-SP              SP       Atletico-MG   \n",
       "4    2012-05-20 16:00:00  Corinthians-SP              SP     Fluminense-RJ   \n",
       "...                  ...             ...             ...               ...   \n",
       "4165                 NaT     Botafogo-RJ              RJ         Santos-SP   \n",
       "4166                 NaT    Palmeiras-SP              SP        America-MG   \n",
       "4167                 NaT    Sao Paulo-SP              SP  Internacional-RS   \n",
       "4168                 NaT   Fluminense-RJ              RJ          Goias-GO   \n",
       "4169                 NaT     Atletico-MG              MG         Cuiaba-MT   \n",
       "\n",
       "     away_team_state  home_goal  away_goal  season  round  \n",
       "0                 SP        1.0        1.0    2012      1  \n",
       "1                 RJ        1.0        1.0    2012      1  \n",
       "2                 PE        2.0        1.0    2012      1  \n",
       "3                 MG        0.0        1.0    2012      1  \n",
       "4                 RJ        0.0        1.0    2012      1  \n",
       "...              ...        ...        ...     ...    ...  \n",
       "4165              SP        NaN        NaN    2022     37  \n",
       "4166              MG        NaN        NaN    2022     37  \n",
       "4167              RS        NaN        NaN    2022     37  \n",
       "4168              GO        NaN        NaN    2022     37  \n",
       "4169              MT        NaN        NaN    2022     37  \n",
       "\n",
       "[4170 rows x 9 columns]"
      ]
     },
     "execution_count": 3,
     "metadata": {},
     "output_type": "execute_result"
    }
   ],
   "source": [
    "brasileirao = pd.read_csv(\n",
    "    'https://github.com/ricardomattos05/Brazilian-Soccer-Data/blob/master/Data/Brasileirao_Matches.csv?raw=true',\n",
    "    )\n",
    "\n",
    "brasileirao['datetime'] = pd.to_datetime(brasileirao['datetime'])\n",
    "brasileirao"
   ]
  },
  {
   "cell_type": "code",
   "execution_count": 4,
   "metadata": {},
   "outputs": [
    {
     "name": "stdout",
     "output_type": "stream",
     "text": [
      "Data atual:  24/09/2022 23:37:57\n"
     ]
    }
   ],
   "source": [
    "print('Data atual: ', datetime.now().strftime('%d/%m/%Y %H:%M:%S'))"
   ]
  },
  {
   "cell_type": "code",
   "execution_count": 5,
   "metadata": {},
   "outputs": [],
   "source": [
    "# Removendo jogos sem resultado (jogos que ainda não foram realizados)\n",
    "brasileirao = brasileirao.dropna()"
   ]
  },
  {
   "cell_type": "code",
   "execution_count": 6,
   "metadata": {},
   "outputs": [
    {
     "name": "stdout",
     "output_type": "stream",
     "text": [
      "Quantidade de matches:  4069\n",
      "Primeiro match:  19/05/2012 18:30:00\n",
      "Último match:  19/09/2022 20:00:00\n"
     ]
    }
   ],
   "source": [
    "print('Quantidade de matches: ', len(brasileirao))\n",
    "print('Primeiro match: ', brasileirao['datetime'].min().strftime('%d/%m/%Y %H:%M:%S'))\n",
    "print('Último match: ', brasileirao['datetime'].max().strftime('%d/%m/%Y %H:%M:%S'))"
   ]
  },
  {
   "cell_type": "code",
   "execution_count": 7,
   "metadata": {},
   "outputs": [
    {
     "name": "stdout",
     "output_type": "stream",
     "text": [
      "Total de times: 36\n",
      "Total de estados: 12\n"
     ]
    }
   ],
   "source": [
    "teams = list(set(brasileirao['home_team'].unique()) | set(brasileirao['away_team'].unique()))\n",
    "states = list(set(brasileirao['home_team_state'].unique()) | set(brasileirao['away_team_state'].unique()))\n",
    "\n",
    "print(f'Total de times: {len(teams)}')\n",
    "print(f'Total de estados: {len(states)}')"
   ]
  },
  {
   "cell_type": "code",
   "execution_count": 8,
   "metadata": {},
   "outputs": [
    {
     "data": {
      "image/png": "[encoded data removed]",
      "text/plain": [
       "<Figure size 432x288 with 1 Axes>"
      ]
     },
     "metadata": {},
     "output_type": "display_data"
    }
   ],
   "source": [
    "brasileirao['result'] =  brasileirao['home_goal'] - brasileirao['away_goal']\n",
    "brasileirao['result'] = brasileirao['result'].apply(lambda x: 'home' if x > 0 else 'away' if x < 0 else 'draw')\n",
    "\n",
    "count = brasileirao['result'].value_counts()\n",
    "\n",
    "plt.pie(count, \n",
    "    labels=count.index.str.capitalize(),\n",
    "    autopct='%1.1f%%',\n",
    "    wedgeprops={'edgecolor': 'black'},\n",
    "    )\n",
    "plt.title('Relação entre resultado e lado da casa')\n",
    "plt.legend()\n",
    "plt.show()"
   ]
  },
  {
   "cell_type": "code",
   "execution_count": 9,
   "metadata": {},
   "outputs": [
    {
     "data": {
      "text/html": [
       "<div>\n",
       "<style scoped>\n",
       "    .dataframe tbody tr th:only-of-type {\n",
       "        vertical-align: middle;\n",
       "    }\n",
       "\n",
       "    .dataframe tbody tr th {\n",
       "        vertical-align: top;\n",
       "    }\n",
       "\n",
       "    .dataframe thead th {\n",
       "        text-align: right;\n",
       "    }\n",
       "</style>\n",
       "<table border=\"1\" class=\"dataframe\">\n",
       "  <thead>\n",
       "    <tr style=\"text-align: right;\">\n",
       "      <th></th>\n",
       "      <th>total_games</th>\n",
       "      <th>total_wins</th>\n",
       "      <th>total_draws</th>\n",
       "      <th>total_losses</th>\n",
       "    </tr>\n",
       "    <tr>\n",
       "      <th>state</th>\n",
       "      <th></th>\n",
       "      <th></th>\n",
       "      <th></th>\n",
       "      <th></th>\n",
       "    </tr>\n",
       "  </thead>\n",
       "  <tbody>\n",
       "    <tr>\n",
       "      <th>PE</th>\n",
       "      <td>418</td>\n",
       "      <td>123</td>\n",
       "      <td>97</td>\n",
       "      <td>198</td>\n",
       "    </tr>\n",
       "    <tr>\n",
       "      <th>MG</th>\n",
       "      <td>851</td>\n",
       "      <td>358</td>\n",
       "      <td>221</td>\n",
       "      <td>272</td>\n",
       "    </tr>\n",
       "    <tr>\n",
       "      <th>AL</th>\n",
       "      <td>38</td>\n",
       "      <td>8</td>\n",
       "      <td>8</td>\n",
       "      <td>22</td>\n",
       "    </tr>\n",
       "    <tr>\n",
       "      <th>RS</th>\n",
       "      <td>814</td>\n",
       "      <td>337</td>\n",
       "      <td>232</td>\n",
       "      <td>245</td>\n",
       "    </tr>\n",
       "    <tr>\n",
       "      <th>RJ</th>\n",
       "      <td>1411</td>\n",
       "      <td>548</td>\n",
       "      <td>366</td>\n",
       "      <td>497</td>\n",
       "    </tr>\n",
       "  </tbody>\n",
       "</table>\n",
       "</div>"
      ],
      "text/plain": [
       "       total_games  total_wins  total_draws  total_losses\n",
       "state                                                    \n",
       "PE             418         123           97           198\n",
       "MG             851         358          221           272\n",
       "AL              38           8            8            22\n",
       "RS             814         337          232           245\n",
       "RJ            1411         548          366           497"
      ]
     },
     "execution_count": 9,
     "metadata": {},
     "output_type": "execute_result"
    }
   ],
   "source": [
    "state_stats = []\n",
    "for state in states:\n",
    "    home = brasileirao[brasileirao['home_team_state'] == state]\n",
    "    away = brasileirao[brasileirao['away_team_state'] == state]\n",
    "\n",
    "    state_stats.append({\n",
    "        'state': state,\n",
    "        'total_games': len(home) + len(away),\n",
    "        'total_wins': len(home[home['result'] == 'home']) + len(away[away['result'] == 'away']),\n",
    "        'total_draws': len(home[home['result'] == 'draw']) + len(away[away['result'] == 'draw']),\n",
    "        'total_losses': len(home[home['result'] == 'away']) + len(away[away['result'] == 'home']),\n",
    "    })\n",
    "\n",
    "state_stats = pd.DataFrame(state_stats)\n",
    "state_stats.set_index('state', inplace=True)\n",
    "\n",
    "state_stats.head()"
   ]
  },
  {
   "cell_type": "code",
   "execution_count": 10,
   "metadata": {},
   "outputs": [
    {
     "data": {
      "image/png": "[encoded data removed]",
      "text/plain": [
       "<Figure size 432x288 with 1 Axes>"
      ]
     },
     "metadata": {
      "needs_background": "light"
     },
     "output_type": "display_data"
    }
   ],
   "source": [
    "# Top 10 estados com maior taxa de vitória\n",
    "state_stats['win_rate'] = state_stats['total_wins'] / state_stats['total_games']\n",
    "\n",
    "top_win_rate = state_stats.sort_values('win_rate', ascending=False).win_rate.head(10)[::-1]\n",
    "\n",
    "top_win_rate.plot.barh(color='green')\n",
    "plt.title('Top 10 estados com maior taxa de vitória')\n",
    "plt.xlabel('Taxa de vitória')\n",
    "plt.ylabel('Estado')\n",
    "plt.show()\n"
   ]
  },
  {
   "cell_type": "code",
   "execution_count": 11,
   "metadata": {},
   "outputs": [
    {
     "data": {
      "image/png": "[encoded data removed]",
      "text/plain": [
       "<Figure size 432x288 with 1 Axes>"
      ]
     },
     "metadata": {
      "needs_background": "light"
     },
     "output_type": "display_data"
    }
   ],
   "source": [
    "# Top 10 estados com maior participação\n",
    "top_participation = state_stats.sort_values('total_games', ascending=False).total_games.head(10)[::-1]\n",
    "\n",
    "top_participation.plot.barh(color='blue')\n",
    "plt.title('Top 10 estados com maior participação')\n",
    "plt.xlabel('Partidas')\n",
    "plt.ylabel('Estado')\n",
    "plt.show()"
   ]
  },
  {
   "cell_type": "code",
   "execution_count": 12,
   "metadata": {},
   "outputs": [
    {
     "data": {
      "text/html": [
       "<div>\n",
       "<style scoped>\n",
       "    .dataframe tbody tr th:only-of-type {\n",
       "        vertical-align: middle;\n",
       "    }\n",
       "\n",
       "    .dataframe tbody tr th {\n",
       "        vertical-align: top;\n",
       "    }\n",
       "\n",
       "    .dataframe thead th {\n",
       "        text-align: right;\n",
       "    }\n",
       "</style>\n",
       "<table border=\"1\" class=\"dataframe\">\n",
       "  <thead>\n",
       "    <tr style=\"text-align: right;\">\n",
       "      <th></th>\n",
       "      <th>total_games</th>\n",
       "      <th>total_wins</th>\n",
       "      <th>total_draws</th>\n",
       "      <th>total_losses</th>\n",
       "    </tr>\n",
       "    <tr>\n",
       "      <th>team</th>\n",
       "      <th></th>\n",
       "      <th></th>\n",
       "      <th></th>\n",
       "      <th></th>\n",
       "    </tr>\n",
       "  </thead>\n",
       "  <tbody>\n",
       "    <tr>\n",
       "      <th>Santos-SP</th>\n",
       "      <td>407</td>\n",
       "      <td>167</td>\n",
       "      <td>116</td>\n",
       "      <td>124</td>\n",
       "    </tr>\n",
       "    <tr>\n",
       "      <th>Vasco da Gama-RJ</th>\n",
       "      <td>266</td>\n",
       "      <td>84</td>\n",
       "      <td>80</td>\n",
       "      <td>102</td>\n",
       "    </tr>\n",
       "    <tr>\n",
       "      <th>Portuguesa-SP</th>\n",
       "      <td>76</td>\n",
       "      <td>22</td>\n",
       "      <td>27</td>\n",
       "      <td>27</td>\n",
       "    </tr>\n",
       "    <tr>\n",
       "      <th>Palmeiras-SP</th>\n",
       "      <td>369</td>\n",
       "      <td>173</td>\n",
       "      <td>86</td>\n",
       "      <td>110</td>\n",
       "    </tr>\n",
       "    <tr>\n",
       "      <th>Avai-SC</th>\n",
       "      <td>141</td>\n",
       "      <td>31</td>\n",
       "      <td>40</td>\n",
       "      <td>70</td>\n",
       "    </tr>\n",
       "  </tbody>\n",
       "</table>\n",
       "</div>"
      ],
      "text/plain": [
       "                  total_games  total_wins  total_draws  total_losses\n",
       "team                                                                \n",
       "Santos-SP                 407         167          116           124\n",
       "Vasco da Gama-RJ          266          84           80           102\n",
       "Portuguesa-SP              76          22           27            27\n",
       "Palmeiras-SP              369         173           86           110\n",
       "Avai-SC                   141          31           40            70"
      ]
     },
     "execution_count": 12,
     "metadata": {},
     "output_type": "execute_result"
    }
   ],
   "source": [
    "team_stats = []\n",
    "for team in teams:\n",
    "    home = brasileirao[brasileirao['home_team'] == team]\n",
    "    away = brasileirao[brasileirao['away_team'] == team]\n",
    "\n",
    "    team_stats.append({\n",
    "        'team': team,\n",
    "        'total_games': len(home) + len(away),\n",
    "        'total_wins': len(home[home['result'] == 'home']) + len(away[away['result'] == 'away']),\n",
    "        'total_draws': len(home[home['result'] == 'draw']) + len(away[away['result'] == 'draw']),\n",
    "        'total_losses': len(home[home['result'] == 'away']) + len(away[away['result'] == 'home']),\n",
    "    })\n",
    "\n",
    "team_stats = pd.DataFrame(team_stats)\n",
    "team_stats.set_index('team', inplace=True)\n",
    "\n",
    "team_stats.head()"
   ]
  },
  {
   "cell_type": "code",
   "execution_count": 13,
   "metadata": {},
   "outputs": [
    {
     "data": {
      "image/png": "[encoded data removed]",
      "text/plain": [
       "<Figure size 432x288 with 1 Axes>"
      ]
     },
     "metadata": {
      "needs_background": "light"
     },
     "output_type": "display_data"
    }
   ],
   "source": [
    "# Top 10 times com maior taxa de vitória\n",
    "team_stats['win_rate'] = team_stats['total_wins'] / team_stats['total_games']\n",
    "\n",
    "top_win_rate = team_stats.sort_values('win_rate', ascending=False).win_rate.head(10)[::-1]\n",
    "\n",
    "top_win_rate.plot.barh(color='green')\n",
    "plt.title('Top 10 times com maior taxa de vitória')\n",
    "plt.xlabel('Taxa de vitória')\n",
    "plt.ylabel('Time')\n",
    "plt.show()"
   ]
  },
  {
   "cell_type": "code",
   "execution_count": 14,
   "metadata": {},
   "outputs": [
    {
     "data": {
      "image/png": "[encoded data removed]",
      "text/plain": [
       "<Figure size 432x288 with 1 Axes>"
      ]
     },
     "metadata": {
      "needs_background": "light"
     },
     "output_type": "display_data"
    }
   ],
   "source": [
    "# Top 10 times com maior participação\n",
    "top_participation = team_stats.sort_values('total_games', ascending=False).total_games.head(10)[::-1]\n",
    "\n",
    "top_participation.plot.barh(color='blue')\n",
    "plt.title('Top 10 times com maior participação')\n",
    "plt.xlabel('Partidas')\n",
    "plt.ylabel('Time')\n",
    "plt.show()"
   ]
  }
 ],
 "metadata": {
  "kernelspec": {
   "display_name": "Python 3.10.4 64-bit",
   "language": "python",
   "name": "python3"
  },
  "language_info": {
   "codemirror_mode": {
    "name": "ipython",
    "version": 3
   },
   "file_extension": ".py",
   "mimetype": "text/x-python",
   "name": "python",
   "nbconvert_exporter": "python",
   "pygments_lexer": "ipython3",
   "version": "3.10.4"
  },
  "orig_nbformat": 4,
  "vscode": {
   "interpreter": {
    "hash": "6d5ac29c284f735ab9dc1b57398a92013538f549d7a0affeeb05e532b05fb5bc"
   }
  }
 },
 "nbformat": 4,
 "nbformat_minor": 2
}
